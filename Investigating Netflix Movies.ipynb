{
 "cells": [
  {
   "cell_type": "markdown",
   "id": "937acf3c-c077-4ca6-8d90-8f6dd4d13c54",
   "metadata": {},
   "source": [
    "<center><img src=\"redpopcorn.jpg\"></center>"
   ]
  },
  {
   "cell_type": "markdown",
   "id": "5962b2cd-17bb-4ec9-b2d5-68537ca26860",
   "metadata": {},
   "source": [
    "**Netflix**! What started in 1997 as a DVD rental service has since exploded into one of the largest entertainment and media companies.\n",
    "\n",
    "Given the large number of movies and series available on the platform, it is a perfect opportunity to flex your exploratory data analysis skills and dive into the entertainment industry.\n",
    "\n",
    "You work for a production company that specializes in nostalgic styles. You want to do some research on movies released in the 1990's. You'll delve into Netflix data and perform exploratory data analysis to better understand this awesome movie decade!\n",
    "\n",
    "You have been supplied with the dataset `netflix_data.csv`, along with the following table detailing the column names and descriptions. Feel free to experiment further after submitting!\n",
    "\n",
    "## The data\n",
    "### **netflix_data.csv**\n",
    "| Column | Description |\n",
    "|--------|-------------|\n",
    "| `show_id` | The ID of the show |\n",
    "| `type` | Type of show |\n",
    "| `title` | Title of the show |\n",
    "| `director` | Director of the show |\n",
    "| `cast` | Cast of the show |\n",
    "| `country` | Country of origin |\n",
    "| `date_added` | Date added to Netflix |\n",
    "| `release_year` | Year of Netflix release |\n",
    "| `duration` | Duration of the show in minutes |\n",
    "| `description` | Description of the show |\n",
    "| `genre` | Show genre |"
   ]
  },
  {
   "cell_type": "markdown",
   "id": "1eb4daca-7219-45fb-870c-c0b65f8d3e7c",
   "metadata": {},
   "source": [
    "Perform exploratory data analysis on the netflix_data.csv data to understand more about movies from the 1990s decade.\n",
    "\n",
    "* What was the most frequent movie duration in the 1990s? Save an approximate answer as an integer called duration.\n",
    "* A movie is considered short if it is less than 90 minutes. Count the number of short action movies released in the 1990s and save this integer as short_movie_count."
   ]
  },
  {
   "cell_type": "code",
   "execution_count": 1,
   "id": "320a3abc-8a36-4b2b-baaf-473325363a4d",
   "metadata": {
    "executionCancelledAt": null,
    "executionTime": 4507,
    "lastExecutedAt": 1720239717010,
    "lastExecutedByKernel": "f1697be5-0ef5-4d7f-94d5-040bc8d50318",
    "lastScheduledRunId": null,
    "lastSuccessfullyExecutedCode": "# Importing pandas and matplotlib\nimport pandas as pd\nimport matplotlib.pyplot as plt\n\n# Read in the Netflix CSV as a DataFrame\ndf = pd.read_csv(\"netflix_data.csv\")"
   },
   "outputs": [],
   "source": [
    "# Importing pandas and matplotlib\n",
    "import pandas as pd\n",
    "import matplotlib.pyplot as plt\n",
    "\n",
    "# Read in the Netflix CSV as a DataFrame\n",
    "df = pd.read_csv(\"netflix_data.csv\")"
   ]
  },
  {
   "cell_type": "markdown",
   "id": "47335f7c-675a-407e-b65b-24cd6f05d2da",
   "metadata": {
    "executionCancelledAt": null,
    "executionTime": 43,
    "lastExecutedAt": 1720239717056,
    "lastExecutedByKernel": "f1697be5-0ef5-4d7f-94d5-040bc8d50318",
    "lastScheduledRunId": null,
    "lastSuccessfullyExecutedCode": "# Start coding here! Use as many cells as you like"
   },
   "source": [
    "## Understanding the Data\n",
    "## 1. Check data information\n",
    "It is crucial to check the information in your dataset before analysis. This is especially important when dealing with mixed data types (numbers and text), as it can lead to unexpected results. By examining the data, you can also gain a better understanding of its structure.\n",
    "\n",
    "Display the first five(5) rows."
   ]
  },
  {
   "cell_type": "code",
   "execution_count": 3,
   "id": "d08c8a88-5e01-464f-9221-c31b9e464ae8",
   "metadata": {
    "executionCancelledAt": null,
    "executionTime": 791,
    "lastExecutedAt": 1720239717848,
    "lastExecutedByKernel": "f1697be5-0ef5-4d7f-94d5-040bc8d50318",
    "lastScheduledRunId": null,
    "lastSuccessfullyExecutedCode": "netflix_df.head(5)",
    "outputsMetadata": {
     "0": {
      "height": 213,
      "type": "dataFrame"
     }
    }
   },
   "outputs": [
    {
     "data": {
      "text/html": [
       "<div>\n",
       "<style scoped>\n",
       "    .dataframe tbody tr th:only-of-type {\n",
       "        vertical-align: middle;\n",
       "    }\n",
       "\n",
       "    .dataframe tbody tr th {\n",
       "        vertical-align: top;\n",
       "    }\n",
       "\n",
       "    .dataframe thead th {\n",
       "        text-align: right;\n",
       "    }\n",
       "</style>\n",
       "<table border=\"1\" class=\"dataframe\">\n",
       "  <thead>\n",
       "    <tr style=\"text-align: right;\">\n",
       "      <th></th>\n",
       "      <th>show_id</th>\n",
       "      <th>type</th>\n",
       "      <th>title</th>\n",
       "      <th>director</th>\n",
       "      <th>cast</th>\n",
       "      <th>country</th>\n",
       "      <th>date_added</th>\n",
       "      <th>release_year</th>\n",
       "      <th>duration</th>\n",
       "      <th>description</th>\n",
       "      <th>genre</th>\n",
       "    </tr>\n",
       "  </thead>\n",
       "  <tbody>\n",
       "    <tr>\n",
       "      <th>0</th>\n",
       "      <td>s2</td>\n",
       "      <td>Movie</td>\n",
       "      <td>7:19</td>\n",
       "      <td>Jorge Michel Grau</td>\n",
       "      <td>Demián Bichir, Héctor Bonilla, Oscar Serrano, ...</td>\n",
       "      <td>Mexico</td>\n",
       "      <td>December 23, 2016</td>\n",
       "      <td>2016</td>\n",
       "      <td>93</td>\n",
       "      <td>After a devastating earthquake hits Mexico Cit...</td>\n",
       "      <td>Dramas</td>\n",
       "    </tr>\n",
       "    <tr>\n",
       "      <th>1</th>\n",
       "      <td>s3</td>\n",
       "      <td>Movie</td>\n",
       "      <td>23:59</td>\n",
       "      <td>Gilbert Chan</td>\n",
       "      <td>Tedd Chan, Stella Chung, Henley Hii, Lawrence ...</td>\n",
       "      <td>Singapore</td>\n",
       "      <td>December 20, 2018</td>\n",
       "      <td>2011</td>\n",
       "      <td>78</td>\n",
       "      <td>When an army recruit is found dead, his fellow...</td>\n",
       "      <td>Horror Movies</td>\n",
       "    </tr>\n",
       "    <tr>\n",
       "      <th>2</th>\n",
       "      <td>s4</td>\n",
       "      <td>Movie</td>\n",
       "      <td>9</td>\n",
       "      <td>Shane Acker</td>\n",
       "      <td>Elijah Wood, John C. Reilly, Jennifer Connelly...</td>\n",
       "      <td>United States</td>\n",
       "      <td>November 16, 2017</td>\n",
       "      <td>2009</td>\n",
       "      <td>80</td>\n",
       "      <td>In a postapocalyptic world, rag-doll robots hi...</td>\n",
       "      <td>Action</td>\n",
       "    </tr>\n",
       "    <tr>\n",
       "      <th>3</th>\n",
       "      <td>s5</td>\n",
       "      <td>Movie</td>\n",
       "      <td>21</td>\n",
       "      <td>Robert Luketic</td>\n",
       "      <td>Jim Sturgess, Kevin Spacey, Kate Bosworth, Aar...</td>\n",
       "      <td>United States</td>\n",
       "      <td>January 1, 2020</td>\n",
       "      <td>2008</td>\n",
       "      <td>123</td>\n",
       "      <td>A brilliant group of students become card-coun...</td>\n",
       "      <td>Dramas</td>\n",
       "    </tr>\n",
       "    <tr>\n",
       "      <th>4</th>\n",
       "      <td>s6</td>\n",
       "      <td>TV Show</td>\n",
       "      <td>46</td>\n",
       "      <td>Serdar Akar</td>\n",
       "      <td>Erdal Beşikçioğlu, Yasemin Allen, Melis Birkan...</td>\n",
       "      <td>Turkey</td>\n",
       "      <td>July 1, 2017</td>\n",
       "      <td>2016</td>\n",
       "      <td>1</td>\n",
       "      <td>A genetics professor experiments with a treatm...</td>\n",
       "      <td>International TV</td>\n",
       "    </tr>\n",
       "  </tbody>\n",
       "</table>\n",
       "</div>"
      ],
      "text/plain": [
       "  show_id     type  title           director  \\\n",
       "0      s2    Movie   7:19  Jorge Michel Grau   \n",
       "1      s3    Movie  23:59       Gilbert Chan   \n",
       "2      s4    Movie      9        Shane Acker   \n",
       "3      s5    Movie     21     Robert Luketic   \n",
       "4      s6  TV Show     46        Serdar Akar   \n",
       "\n",
       "                                                cast        country  \\\n",
       "0  Demián Bichir, Héctor Bonilla, Oscar Serrano, ...         Mexico   \n",
       "1  Tedd Chan, Stella Chung, Henley Hii, Lawrence ...      Singapore   \n",
       "2  Elijah Wood, John C. Reilly, Jennifer Connelly...  United States   \n",
       "3  Jim Sturgess, Kevin Spacey, Kate Bosworth, Aar...  United States   \n",
       "4  Erdal Beşikçioğlu, Yasemin Allen, Melis Birkan...         Turkey   \n",
       "\n",
       "          date_added  release_year  duration  \\\n",
       "0  December 23, 2016          2016        93   \n",
       "1  December 20, 2018          2011        78   \n",
       "2  November 16, 2017          2009        80   \n",
       "3    January 1, 2020          2008       123   \n",
       "4       July 1, 2017          2016         1   \n",
       "\n",
       "                                         description             genre  \n",
       "0  After a devastating earthquake hits Mexico Cit...            Dramas  \n",
       "1  When an army recruit is found dead, his fellow...     Horror Movies  \n",
       "2  In a postapocalyptic world, rag-doll robots hi...            Action  \n",
       "3  A brilliant group of students become card-coun...            Dramas  \n",
       "4  A genetics professor experiments with a treatm...  International TV  "
      ]
     },
     "execution_count": 3,
     "metadata": {},
     "output_type": "execute_result"
    }
   ],
   "source": [
    "df.head(5)"
   ]
  },
  {
   "cell_type": "markdown",
   "id": "9b8eaa54-3565-4624-84c7-7f1ab00e14c8",
   "metadata": {},
   "source": [
    "First 5 rows of Netflix Movies Data Set"
   ]
  },
  {
   "cell_type": "code",
   "execution_count": 4,
   "id": "c4bdc021-6d06-4340-9523-256f246e6e85",
   "metadata": {
    "executionCancelledAt": 1720239717826,
    "executionTime": 51,
    "lastExecutedAt": 1718806529001,
    "lastExecutedByKernel": "dfb29a27-e25a-4db7-8b8f-a446be465aba",
    "lastScheduledRunId": null,
    "lastSuccessfullyExecutedCode": "df.shape"
   },
   "outputs": [
    {
     "data": {
      "text/plain": [
       "(4812, 11)"
      ]
     },
     "execution_count": 4,
     "metadata": {},
     "output_type": "execute_result"
    }
   ],
   "source": [
    "df.shape"
   ]
  },
  {
   "cell_type": "markdown",
   "id": "4cf6fde2-d950-4e87-8a38-0c80b34f79fb",
   "metadata": {},
   "source": [
    "Data Set has 4812 rows and 11 columns"
   ]
  },
  {
   "cell_type": "code",
   "execution_count": 5,
   "id": "22274df4-e0a5-4b4f-8c92-31eecbeb7889",
   "metadata": {
    "executionCancelledAt": 1720239717827,
    "executionTime": 72,
    "lastExecutedAt": 1718806529073,
    "lastExecutedByKernel": "dfb29a27-e25a-4db7-8b8f-a446be465aba",
    "lastScheduledRunId": null,
    "lastSuccessfullyExecutedCode": "df.dtypes"
   },
   "outputs": [
    {
     "data": {
      "text/plain": [
       "show_id         object\n",
       "type            object\n",
       "title           object\n",
       "director        object\n",
       "cast            object\n",
       "country         object\n",
       "date_added      object\n",
       "release_year     int64\n",
       "duration         int64\n",
       "description     object\n",
       "genre           object\n",
       "dtype: object"
      ]
     },
     "execution_count": 5,
     "metadata": {},
     "output_type": "execute_result"
    }
   ],
   "source": [
    "df.dtypes"
   ]
  },
  {
   "cell_type": "markdown",
   "id": "e3ce9ef7-57cd-4b93-9f78-312807db13e8",
   "metadata": {},
   "source": [
    "Shows the Data type of the existing columns"
   ]
  },
  {
   "cell_type": "markdown",
   "id": "692cb76b-01a5-48ea-b4a6-d3bac209285d",
   "metadata": {},
   "source": [
    "print(df.info()) provides a quick overview of the DataFrame by displaying the data types of each column, how many entries (rows) it has, and any missing values. This helps you understand the structure of your data and identify potential issues before analysis."
   ]
  },
  {
   "cell_type": "code",
   "execution_count": 6,
   "id": "1642de6e-29b4-49be-a098-d41122b35c53",
   "metadata": {
    "executionCancelledAt": 1720239717829,
    "executionTime": 60,
    "lastExecutedAt": 1718806529134,
    "lastExecutedByKernel": "dfb29a27-e25a-4db7-8b8f-a446be465aba",
    "lastScheduledRunId": null,
    "lastSuccessfullyExecutedCode": "print(df.info())",
    "outputsMetadata": {
     "0": {
      "height": 416,
      "type": "stream"
     }
    }
   },
   "outputs": [
    {
     "name": "stdout",
     "output_type": "stream",
     "text": [
      "<class 'pandas.core.frame.DataFrame'>\n",
      "RangeIndex: 4812 entries, 0 to 4811\n",
      "Data columns (total 11 columns):\n",
      " #   Column        Non-Null Count  Dtype \n",
      "---  ------        --------------  ----- \n",
      " 0   show_id       4812 non-null   object\n",
      " 1   type          4812 non-null   object\n",
      " 2   title         4812 non-null   object\n",
      " 3   director      4812 non-null   object\n",
      " 4   cast          4812 non-null   object\n",
      " 5   country       4812 non-null   object\n",
      " 6   date_added    4812 non-null   object\n",
      " 7   release_year  4812 non-null   int64 \n",
      " 8   duration      4812 non-null   int64 \n",
      " 9   description   4812 non-null   object\n",
      " 10  genre         4812 non-null   object\n",
      "dtypes: int64(2), object(9)\n",
      "memory usage: 413.7+ KB\n",
      "None\n"
     ]
    }
   ],
   "source": [
    "print(df.info())"
   ]
  },
  {
   "cell_type": "markdown",
   "id": "a9b45b42-c738-4f5a-b33a-2fb038cb9b18",
   "metadata": {},
   "source": [
    "More detailed information of the DataFrame"
   ]
  },
  {
   "cell_type": "markdown",
   "id": "b3484301-8f5e-4e77-8de3-3854862a22c8",
   "metadata": {},
   "source": [
    "## 2. Check duplicated rows\n",
    "It’s essential to check for and remove duplicate rows in the DataFrame to ensure data integrity. Duplicates can skew our analysis by giving undue weight to certain data points and lead to biased results."
   ]
  },
  {
   "cell_type": "code",
   "execution_count": 7,
   "id": "0044c09e-097f-476e-bca2-b885c9c3a01d",
   "metadata": {
    "executionCancelledAt": 1720239717830,
    "executionTime": 47,
    "lastExecutedAt": 1718806529181,
    "lastExecutedByKernel": "dfb29a27-e25a-4db7-8b8f-a446be465aba",
    "lastScheduledRunId": null,
    "lastSuccessfullyExecutedCode": "duplicate_rows_df = df[df.duplicated()]\nprint(\"number of duplicate rows: \", duplicate_rows_df.shape)",
    "outputsMetadata": {
     "0": {
      "height": 38,
      "type": "stream"
     }
    }
   },
   "outputs": [
    {
     "name": "stdout",
     "output_type": "stream",
     "text": [
      "number of duplicate rows:  (0, 11)\n"
     ]
    }
   ],
   "source": [
    "duplicate_rows_df = df[df.duplicated()]\n",
    "print(\"number of duplicate rows: \", duplicate_rows_df.shape)"
   ]
  },
  {
   "cell_type": "markdown",
   "id": "d3ac7a27-a075-4835-b1db-4783e2c42e31",
   "metadata": {},
   "source": [
    "No detected duplicate rows"
   ]
  },
  {
   "cell_type": "markdown",
   "id": "050e52a3-fcc4-4b76-b713-c4767e5a8808",
   "metadata": {},
   "source": [
    "## 3. Check null values\n",
    "Checking missing values is essential for data cleaning. It ensures data integrity and avoids biases that can skew our analysis."
   ]
  },
  {
   "cell_type": "markdown",
   "id": "da6275dc-3d57-4a27-963e-118d3e9e9192",
   "metadata": {},
   "source": [
    "Check for null values.\n",
    "\n",
    "No null values were present in all columns"
   ]
  },
  {
   "cell_type": "code",
   "execution_count": 9,
   "id": "740f6739-959e-404d-9373-26ba433477f2",
   "metadata": {
    "executionCancelledAt": 1720239717832,
    "executionTime": 57,
    "lastExecutedAt": 1718806529299,
    "lastExecutedByKernel": "dfb29a27-e25a-4db7-8b8f-a446be465aba",
    "lastScheduledRunId": null,
    "lastSuccessfullyExecutedCode": "print(df.isnull().sum())",
    "outputsMetadata": {
     "0": {
      "height": 269,
      "type": "stream"
     }
    }
   },
   "outputs": [
    {
     "name": "stdout",
     "output_type": "stream",
     "text": [
      "show_id         0\n",
      "type            0\n",
      "title           0\n",
      "director        0\n",
      "cast            0\n",
      "country         0\n",
      "date_added      0\n",
      "release_year    0\n",
      "duration        0\n",
      "description     0\n",
      "genre           0\n",
      "dtype: int64\n"
     ]
    }
   ],
   "source": [
    "print(df.isnull().sum())"
   ]
  },
  {
   "cell_type": "markdown",
   "id": "55dd9f72-82f8-4d24-8f40-03cd7f8c510d",
   "metadata": {},
   "source": [
    "We can also use df.count(),it is a useful for counting the number of non-null values in each column of a DataFrame. It returns a Series containing the counts.\n",
    "\n",
    "All columns have the same counts of non-null values, this shows that there is specific column without an entry or data."
   ]
  },
  {
   "cell_type": "code",
   "execution_count": 8,
   "id": "451e767a-63e1-4af1-b1c6-f09739f36027",
   "metadata": {
    "executionCancelledAt": 1720239717831,
    "executionTime": 61,
    "lastExecutedAt": 1718806529242,
    "lastExecutedByKernel": "dfb29a27-e25a-4db7-8b8f-a446be465aba",
    "lastScheduledRunId": null,
    "lastSuccessfullyExecutedCode": "df.count() ",
    "outputsMetadata": {
     "0": {
      "height": 321,
      "type": "dataFrame"
     }
    }
   },
   "outputs": [
    {
     "data": {
      "text/plain": [
       "show_id         4812\n",
       "type            4812\n",
       "title           4812\n",
       "director        4812\n",
       "cast            4812\n",
       "country         4812\n",
       "date_added      4812\n",
       "release_year    4812\n",
       "duration        4812\n",
       "description     4812\n",
       "genre           4812\n",
       "dtype: int64"
      ]
     },
     "execution_count": 8,
     "metadata": {},
     "output_type": "execute_result"
    }
   ],
   "source": [
    "df.count() "
   ]
  },
  {
   "cell_type": "markdown",
   "id": "363bdebc-f231-45c1-b978-930cb3b69b26",
   "metadata": {},
   "source": [
    "DataFrame’s existing columns and no. of non-null values"
   ]
  },
  {
   "cell_type": "markdown",
   "id": "17989cef-2ba3-428f-9965-858e5d461690",
   "metadata": {},
   "source": [
    "## 4. Identify Data Patterns\n",
    "Summarizes key statistics for numerical data in our DataFrame. This helps understand data patterns and prepare for further analysis."
   ]
  },
  {
   "cell_type": "code",
   "execution_count": 10,
   "id": "6bbd72f3-a5bf-4a7b-8d1c-44996877cb57",
   "metadata": {
    "chartConfig": {
     "bar": {
      "hasRoundedCorners": true,
      "stacked": false
     },
     "type": "bar",
     "version": "v1"
    },
    "executionCancelledAt": 1720239717834,
    "executionTime": 50,
    "lastExecutedAt": 1718806529349,
    "lastExecutedByKernel": "dfb29a27-e25a-4db7-8b8f-a446be465aba",
    "lastScheduledRunId": null,
    "lastSuccessfullyExecutedCode": "df.describe()",
    "outputsMetadata": {
     "0": {
      "height": 271,
      "type": "dataFrame"
     }
    },
    "visualizeDataframe": false
   },
   "outputs": [
    {
     "data": {
      "text/html": [
       "<div>\n",
       "<style scoped>\n",
       "    .dataframe tbody tr th:only-of-type {\n",
       "        vertical-align: middle;\n",
       "    }\n",
       "\n",
       "    .dataframe tbody tr th {\n",
       "        vertical-align: top;\n",
       "    }\n",
       "\n",
       "    .dataframe thead th {\n",
       "        text-align: right;\n",
       "    }\n",
       "</style>\n",
       "<table border=\"1\" class=\"dataframe\">\n",
       "  <thead>\n",
       "    <tr style=\"text-align: right;\">\n",
       "      <th></th>\n",
       "      <th>release_year</th>\n",
       "      <th>duration</th>\n",
       "    </tr>\n",
       "  </thead>\n",
       "  <tbody>\n",
       "    <tr>\n",
       "      <th>count</th>\n",
       "      <td>4812.000000</td>\n",
       "      <td>4812.000000</td>\n",
       "    </tr>\n",
       "    <tr>\n",
       "      <th>mean</th>\n",
       "      <td>2012.711554</td>\n",
       "      <td>99.566708</td>\n",
       "    </tr>\n",
       "    <tr>\n",
       "      <th>std</th>\n",
       "      <td>9.517978</td>\n",
       "      <td>30.889305</td>\n",
       "    </tr>\n",
       "    <tr>\n",
       "      <th>min</th>\n",
       "      <td>1942.000000</td>\n",
       "      <td>1.000000</td>\n",
       "    </tr>\n",
       "    <tr>\n",
       "      <th>25%</th>\n",
       "      <td>2011.000000</td>\n",
       "      <td>88.000000</td>\n",
       "    </tr>\n",
       "    <tr>\n",
       "      <th>50%</th>\n",
       "      <td>2016.000000</td>\n",
       "      <td>99.000000</td>\n",
       "    </tr>\n",
       "    <tr>\n",
       "      <th>75%</th>\n",
       "      <td>2018.000000</td>\n",
       "      <td>116.000000</td>\n",
       "    </tr>\n",
       "    <tr>\n",
       "      <th>max</th>\n",
       "      <td>2021.000000</td>\n",
       "      <td>253.000000</td>\n",
       "    </tr>\n",
       "  </tbody>\n",
       "</table>\n",
       "</div>"
      ],
      "text/plain": [
       "       release_year     duration\n",
       "count   4812.000000  4812.000000\n",
       "mean    2012.711554    99.566708\n",
       "std        9.517978    30.889305\n",
       "min     1942.000000     1.000000\n",
       "25%     2011.000000    88.000000\n",
       "50%     2016.000000    99.000000\n",
       "75%     2018.000000   116.000000\n",
       "max     2021.000000   253.000000"
      ]
     },
     "execution_count": 10,
     "metadata": {},
     "output_type": "execute_result"
    }
   ],
   "source": [
    "df.describe()"
   ]
  },
  {
   "cell_type": "markdown",
   "id": "915834f0-39fc-4550-a169-6ae0ffa45917",
   "metadata": {},
   "source": [
    "Statistics of the release_year and duration columns"
   ]
  },
  {
   "cell_type": "code",
   "execution_count": 11,
   "id": "59f4659c-d3fe-4f50-bea5-ce119fe8b000",
   "metadata": {
    "executionCancelledAt": 1720239717836,
    "executionTime": 48,
    "lastExecutedAt": 1718806529397,
    "lastExecutedByKernel": "dfb29a27-e25a-4db7-8b8f-a446be465aba",
    "lastScheduledRunId": null,
    "lastSuccessfullyExecutedCode": "print(df.value_counts('type'))",
    "outputsMetadata": {
     "0": {
      "height": 101,
      "type": "stream"
     }
    }
   },
   "outputs": [
    {
     "name": "stdout",
     "output_type": "stream",
     "text": [
      "type\n",
      "Movie      4677\n",
      "TV Show     135\n",
      "Name: count, dtype: int64\n"
     ]
    }
   ],
   "source": [
    "print(df.value_counts('type'))"
   ]
  },
  {
   "cell_type": "markdown",
   "id": "2cf00561-c5ce-41f9-9758-7bc373ac21f2",
   "metadata": {},
   "source": [
    "Data counts per type"
   ]
  },
  {
   "cell_type": "markdown",
   "id": "6fcda5fc-0936-4446-9a80-15d51913d074",
   "metadata": {},
   "source": [
    "The “Type” column has two categories: “Movie” and “TV Show”. “Movie” has 4,677 entries, while “TV Show” has 135, for a total of 4,812 rows.\n",
    "\n",
    "Another way to count “Movies”"
   ]
  },
  {
   "cell_type": "code",
   "execution_count": 12,
   "id": "44eacfb9-0d20-473a-af82-be0c2eee2bea",
   "metadata": {
    "executionCancelledAt": 1720239717837,
    "executionTime": 48,
    "lastExecutedAt": 1718806529445,
    "lastExecutedByKernel": "dfb29a27-e25a-4db7-8b8f-a446be465aba",
    "lastScheduledRunId": null,
    "lastSuccessfullyExecutedCode": "df_subset = df[df['type'] == \"Movie\"]\nprint(df_subset.value_counts('type'))",
    "outputsMetadata": {
     "0": {
      "height": 80,
      "type": "stream"
     }
    }
   },
   "outputs": [
    {
     "name": "stdout",
     "output_type": "stream",
     "text": [
      "type\n",
      "Movie    4677\n",
      "Name: count, dtype: int64\n"
     ]
    }
   ],
   "source": [
    "df_subset = df[df['type'] == \"Movie\"]\n",
    "print(df_subset.value_counts('type'))"
   ]
  },
  {
   "cell_type": "markdown",
   "id": "075171a3-f886-48dd-9dd8-7d258b49bf02",
   "metadata": {},
   "source": [
    "Movies has 4677 entires"
   ]
  },
  {
   "cell_type": "markdown",
   "id": "d33847e0-121b-48e7-b3ba-ecde4281aa47",
   "metadata": {},
   "source": [
    "## Question No. 1\n",
    "## What was the most frequent movie duration in the 1990s?\n",
    "* Save an approximate answer as an integer called duration."
   ]
  },
  {
   "cell_type": "markdown",
   "id": "6e04e9d5-7ad5-42e4-9b47-8aaee36fe9c5",
   "metadata": {},
   "source": [
    "Create a new DataFrame which is Netflix “Movie” films released from year 1990 to 1999."
   ]
  },
  {
   "cell_type": "code",
   "execution_count": 13,
   "id": "93af4b90-d6da-4dbb-ac23-c56e93b6296c",
   "metadata": {
    "executionCancelledAt": 1720239717838,
    "executionTime": 48,
    "lastExecutedAt": 1718806529493,
    "lastExecutedByKernel": "dfb29a27-e25a-4db7-8b8f-a446be465aba",
    "lastScheduledRunId": null,
    "lastSuccessfullyExecutedCode": "new_df = df[(df['release_year'] >= 1990) & (df['release_year'] < 2000) & (df['type'] == \"Movie\")]\nprint(new_df.value_counts('type'))",
    "outputsMetadata": {
     "0": {
      "height": 80,
      "type": "stream"
     }
    }
   },
   "outputs": [
    {
     "name": "stdout",
     "output_type": "stream",
     "text": [
      "type\n",
      "Movie    183\n",
      "Name: count, dtype: int64\n"
     ]
    }
   ],
   "source": [
    "new_df = df[(df['release_year'] >= 1990) & (df['release_year'] < 2000) & (df['type'] == \"Movie\")]\n",
    "print(new_df.value_counts('type'))"
   ]
  },
  {
   "cell_type": "markdown",
   "id": "303b3fdb-e3b7-4ded-9527-7c18b181a9b2",
   "metadata": {},
   "source": [
    "183 counts of Movies Released on Year 1990–1999"
   ]
  },
  {
   "cell_type": "markdown",
   "id": "7131629e-f6d4-4edd-9f45-9104cc5ed0ef",
   "metadata": {},
   "source": [
    "Modify DataFrame with chosen columns display."
   ]
  },
  {
   "cell_type": "code",
   "execution_count": 14,
   "id": "a5c4a510-c739-40ed-b5a2-a0ec4683cdf9",
   "metadata": {
    "executionCancelledAt": 1720239717839,
    "executionTime": 49,
    "lastExecutedAt": 1718806529542,
    "lastExecutedByKernel": "dfb29a27-e25a-4db7-8b8f-a446be465aba",
    "lastScheduledRunId": null,
    "lastSuccessfullyExecutedCode": "keep=['title','country','genre','release_year','duration']\nnetflix_movies = new_df[keep]\nprint(netflix_movies.columns)",
    "outputsMetadata": {
     "0": {
      "height": 38,
      "type": "stream"
     }
    }
   },
   "outputs": [
    {
     "name": "stdout",
     "output_type": "stream",
     "text": [
      "Index(['title', 'country', 'genre', 'release_year', 'duration'], dtype='object')\n"
     ]
    }
   ],
   "source": [
    "keep=['title','country','genre','release_year','duration']\n",
    "netflix_movies = new_df[keep]\n",
    "print(netflix_movies.columns)"
   ]
  },
  {
   "cell_type": "markdown",
   "id": "f4881bea-606f-4717-8b74-2c8e2ee6d949",
   "metadata": {},
   "source": [
    "Plot histogram to visualize the data according to number of movies and duration."
   ]
  },
  {
   "cell_type": "code",
   "execution_count": 15,
   "id": "fc426dd5-2d4f-4858-b598-0083017bbd55",
   "metadata": {
    "executionCancelledAt": 1720239717840,
    "executionTime": 223,
    "lastExecutedAt": 1718806529765,
    "lastExecutedByKernel": "dfb29a27-e25a-4db7-8b8f-a446be465aba",
    "lastScheduledRunId": null,
    "lastSuccessfullyExecutedCode": "plt.hist(netflix_movies[\"duration\"])\nplt.title('Distribution of Movie Durations in the 1990s')\nplt.xlabel('Duration (minutes)')\nplt.ylabel('Number of Movies')\nplt.show()"
   },
   "outputs": [
    {
     "data": {
      "image/png": "[encoded data removed]",
      "text/plain": [
       "<Figure size 640x480 with 1 Axes>"
      ]
     },
     "metadata": {},
     "output_type": "display_data"
    }
   ],
   "source": [
    "plt.hist(netflix_movies[\"duration\"])\n",
    "plt.title('Distribution of Movie Durations in the 1990s')\n",
    "plt.xlabel('Duration (minutes)')\n",
    "plt.ylabel('Number of Movies')\n",
    "plt.show()"
   ]
  },
  {
   "cell_type": "markdown",
   "id": "295e8e3d-f618-4c9a-b9d1-af73cb5c9a82",
   "metadata": {},
   "source": [
    "As shown in the graph above, the most frequent movie duration in the 1990s is 100 minutes."
   ]
  },
  {
   "cell_type": "code",
   "execution_count": 16,
   "id": "dd5744f8-0f7c-47e9-b328-720a5c925574",
   "metadata": {
    "executionCancelledAt": 1720239717841,
    "executionTime": 49,
    "lastExecutedAt": 1718806529814,
    "lastExecutedByKernel": "dfb29a27-e25a-4db7-8b8f-a446be465aba",
    "lastScheduledRunId": null,
    "lastSuccessfullyExecutedCode": "duration = 100"
   },
   "outputs": [],
   "source": [
    "duration = 100"
   ]
  },
  {
   "cell_type": "markdown",
   "id": "1479e3bb-041b-44c1-96ea-1b2d0a9aa7bd",
   "metadata": {},
   "source": [
    "## Question No. 2\n",
    "##  Count the number of short action movies released in the 1990s\n",
    "* A movie is considered short if it is less than 90 minutes.\n",
    "* Save this integer as short_movie_count."
   ]
  },
  {
   "cell_type": "markdown",
   "id": "6b9ba616-481d-48b9-be9a-5b6f3326a2cf",
   "metadata": {},
   "source": [
    "Create a new DataFrame for Netflix movies which genre is in “Action” category."
   ]
  },
  {
   "cell_type": "code",
   "execution_count": 17,
   "id": "caf964cb-6e82-40f1-afec-a221d424bc83",
   "metadata": {
    "executionCancelledAt": 1720239717842,
    "executionTime": 52,
    "lastExecutedAt": 1718806529866,
    "lastExecutedByKernel": "dfb29a27-e25a-4db7-8b8f-a446be465aba",
    "lastScheduledRunId": null,
    "lastSuccessfullyExecutedCode": "action_movies_1990s = netflix_movies[netflix_movies[\"genre\"] == \"Action\"]\nprint(action_movies_1990s.value_counts('genre'))",
    "outputsMetadata": {
     "0": {
      "height": 80,
      "type": "stream"
     }
    }
   },
   "outputs": [
    {
     "name": "stdout",
     "output_type": "stream",
     "text": [
      "genre\n",
      "Action    48\n",
      "Name: count, dtype: int64\n"
     ]
    }
   ],
   "source": [
    "action_movies_1990s = netflix_movies[netflix_movies[\"genre\"] == \"Action\"]\n",
    "print(action_movies_1990s.value_counts('genre'))"
   ]
  },
  {
   "cell_type": "markdown",
   "id": "399f9ec0-6798-48b4-a990-d2d13d462877",
   "metadata": {},
   "source": [
    "48 Action Movies were counted"
   ]
  },
  {
   "cell_type": "markdown",
   "id": "335481ac-5199-4b05-9679-de5aba3ba61a",
   "metadata": {},
   "source": [
    "Create a new DataFrame for Netflix movies which duration is less than 90 minutes."
   ]
  },
  {
   "cell_type": "code",
   "execution_count": 18,
   "id": "7bd117a0-04a5-492c-8ae3-6c79de2f7ca5",
   "metadata": {
    "executionCancelledAt": 1720239717844,
    "executionTime": 51,
    "lastExecutedAt": 1718806529918,
    "lastExecutedByKernel": "dfb29a27-e25a-4db7-8b8f-a446be465aba",
    "lastScheduledRunId": null,
    "lastSuccessfullyExecutedCode": "short_action_movies_1990s = action_movies_1990s[action_movies_1990s[\"duration\"] <90 ]\nprint(short_action_movies_1990s.value_counts('duration'))",
    "outputsMetadata": {
     "0": {
      "height": 185,
      "type": "stream"
     }
    }
   },
   "outputs": [
    {
     "name": "stdout",
     "output_type": "stream",
     "text": [
      "duration\n",
      "89    2\n",
      "69    1\n",
      "83    1\n",
      "84    1\n",
      "87    1\n",
      "88    1\n",
      "Name: count, dtype: int64\n"
     ]
    }
   ],
   "source": [
    "short_action_movies_1990s = action_movies_1990s[action_movies_1990s[\"duration\"] <90 ]\n",
    "print(short_action_movies_1990s.value_counts('duration'))"
   ]
  },
  {
   "cell_type": "markdown",
   "id": "b98b8c54-bc8e-4d81-906a-8dd18779dd8b",
   "metadata": {},
   "source": [
    "Movie counts according to durations"
   ]
  },
  {
   "cell_type": "markdown",
   "id": "184945f5-76e9-48a2-a15b-7c3e27a8cd9e",
   "metadata": {
    "executionCancelledAt": 1720239717845,
    "executionTime": 47,
    "lastExecutedAt": 1718806529965,
    "lastExecutedByKernel": "dfb29a27-e25a-4db7-8b8f-a446be465aba",
    "lastScheduledRunId": null,
    "lastSuccessfullyExecutedCode": ""
   },
   "source": [
    "Count the number of short action movies released in the 1990s."
   ]
  },
  {
   "cell_type": "markdown",
   "id": "b8584c3e-974e-44ce-bf28-8eb519cecaa0",
   "metadata": {},
   "source": [
    "Option 1"
   ]
  },
  {
   "cell_type": "code",
   "execution_count": 19,
   "id": "58d71d10-d7c7-4b20-a74c-3a219bf3c248",
   "metadata": {
    "executionCancelledAt": 1720239717846,
    "executionTime": 50,
    "lastExecutedAt": 1718806530015,
    "lastExecutedByKernel": "dfb29a27-e25a-4db7-8b8f-a446be465aba",
    "lastScheduledRunId": null,
    "lastSuccessfullyExecutedCode": "short_movie_count = 0\n\nfor label, row in action_movies_1990s.iterrows() :\n    if row[\"duration\"] < 90 :\n        short_movie_count = short_movie_count + 1\n    else:\n        short_movie_count = short_movie_count\n\nprint(short_movie_count)",
    "outputsMetadata": {
     "0": {
      "height": 38,
      "type": "stream"
     }
    }
   },
   "outputs": [
    {
     "name": "stdout",
     "output_type": "stream",
     "text": [
      "7\n"
     ]
    }
   ],
   "source": [
    "short_movie_count = 0\n",
    "\n",
    "for label, row in action_movies_1990s.iterrows() :\n",
    "    if row[\"duration\"] < 90 :\n",
    "        short_movie_count = short_movie_count + 1\n",
    "    else:\n",
    "        short_movie_count = short_movie_count\n",
    "\n",
    "print(short_movie_count)"
   ]
  },
  {
   "cell_type": "markdown",
   "id": "acc95066-8a6d-4f22-9c58-765a99ff695d",
   "metadata": {},
   "source": [
    "Option 2"
   ]
  },
  {
   "cell_type": "code",
   "execution_count": 20,
   "id": "a532f3db-c5bf-41aa-871b-eb3c16155e7d",
   "metadata": {
    "executionCancelledAt": 1720239717847,
    "executionTime": 46,
    "lastExecutedAt": 1718806530061,
    "lastExecutedByKernel": "dfb29a27-e25a-4db7-8b8f-a446be465aba",
    "lastScheduledRunId": null,
    "lastSuccessfullyExecutedCode": "(action_movies_1990s[\"duration\"] < 90).sum()"
   },
   "outputs": [
    {
     "data": {
      "text/plain": [
       "7"
      ]
     },
     "execution_count": 20,
     "metadata": {},
     "output_type": "execute_result"
    }
   ],
   "source": [
    "(action_movies_1990s[\"duration\"] < 90).sum()"
   ]
  },
  {
   "cell_type": "markdown",
   "id": "7406d806-4222-440c-b535-ca99da4ac450",
   "metadata": {},
   "source": [
    "### There are 7 Short Action Movies released in the 1990s"
   ]
  },
  {
   "cell_type": "code",
   "execution_count": null,
   "id": "43859d0a-4521-4962-b013-ad9c73f6fb52",
   "metadata": {},
   "outputs": [],
   "source": []
  }
 ],
 "metadata": {
  "colab": {
   "name": "Welcome to DataCamp Workspaces.ipynb",
   "provenance": []
  },
  "editor": "DataLab",
  "kernelspec": {
   "display_name": "Python 3 (ipykernel)",
   "language": "python",
   "name": "python3"
  },
  "language_info": {
   "codemirror_mode": {
    "name": "ipython",
    "version": 3
   },
   "file_extension": ".py",
   "mimetype": "text/x-python",
   "name": "python",
   "nbconvert_exporter": "python",
   "pygments_lexer": "ipython3",
   "version": "3.12.4"
  }
 },
 "nbformat": 4,
 "nbformat_minor": 5
}
