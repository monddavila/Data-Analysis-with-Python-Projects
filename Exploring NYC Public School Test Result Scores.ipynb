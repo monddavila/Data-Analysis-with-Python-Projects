{
 "cells": [
  {
   "cell_type": "markdown",
   "id": "fe0ea788-58dd-459e-8976-fafdb5c05c6d",
   "metadata": {},
   "source": [
    "![New York City schoolbus](schoolbus.jpg)\n",
    "\n",
    "Photo by [Jannis Lucas](https://unsplash.com/@jannis_lucas) on [Unsplash](https://unsplash.com).\n",
    "<br>\n",
    "\n",
    "Every year, American high school students take SATs, which are standardized tests intended to measure literacy, numeracy, and writing skills. There are three sections - reading, math, and writing, each with a **maximum score of 800 points**. These tests are extremely important for students and colleges, as they play a pivotal role in the admissions process.\n",
    "\n",
    "Analyzing the performance of schools is important for a variety of stakeholders, including policy and education professionals, researchers, government, and even parents considering which school their children should attend. \n",
    "\n",
    "You have been provided with a dataset called `schools.csv`, which is previewed below.\n",
    "\n",
    "You have been tasked with answering three key questions about New York City (NYC) public school SAT performance."
   ]
  },
  {
   "cell_type": "code",
   "execution_count": 2,
   "id": "d0eb4f16-5a99-460d-a5ba-706b7ef0bbe7",
   "metadata": {
    "chartConfig": {
     "bar": {
      "hasRoundedCorners": true,
      "stacked": false
     },
     "type": "bar",
     "version": "v1"
    },
    "executionCancelledAt": null,
    "executionTime": 28,
    "id": "bA5ajAmk7XH6",
    "lastExecutedAt": 1720780289455,
    "lastExecutedByKernel": "c2430d72-c4ca-4acd-8a6c-fba8e06d9ff9",
    "lastScheduledRunId": null,
    "lastSuccessfullyExecutedCode": "# Re-run this cell \nimport pandas as pd\n\n# Read in the data\nschools = pd.read_csv(\"schools.csv\")\n\n# Preview the data\nschools.head()\n\n# Start coding here...\n# Add as many cells as you like...",
    "outputsMetadata": {
     "0": {
      "height": 196,
      "type": "dataFrame"
     }
    },
    "visualizeDataframe": false
   },
   "outputs": [
    {
     "data": {
      "text/html": [
       "<div>\n",
       "<style scoped>\n",
       "    .dataframe tbody tr th:only-of-type {\n",
       "        vertical-align: middle;\n",
       "    }\n",
       "\n",
       "    .dataframe tbody tr th {\n",
       "        vertical-align: top;\n",
       "    }\n",
       "\n",
       "    .dataframe thead th {\n",
       "        text-align: right;\n",
       "    }\n",
       "</style>\n",
       "<table border=\"1\" class=\"dataframe\">\n",
       "  <thead>\n",
       "    <tr style=\"text-align: right;\">\n",
       "      <th></th>\n",
       "      <th>school_name</th>\n",
       "      <th>borough</th>\n",
       "      <th>building_code</th>\n",
       "      <th>average_math</th>\n",
       "      <th>average_reading</th>\n",
       "      <th>average_writing</th>\n",
       "      <th>percent_tested</th>\n",
       "    </tr>\n",
       "  </thead>\n",
       "  <tbody>\n",
       "    <tr>\n",
       "      <th>0</th>\n",
       "      <td>New Explorations into Science, Technology and ...</td>\n",
       "      <td>Manhattan</td>\n",
       "      <td>M022</td>\n",
       "      <td>657</td>\n",
       "      <td>601</td>\n",
       "      <td>601</td>\n",
       "      <td>NaN</td>\n",
       "    </tr>\n",
       "    <tr>\n",
       "      <th>1</th>\n",
       "      <td>Essex Street Academy</td>\n",
       "      <td>Manhattan</td>\n",
       "      <td>M445</td>\n",
       "      <td>395</td>\n",
       "      <td>411</td>\n",
       "      <td>387</td>\n",
       "      <td>78.9</td>\n",
       "    </tr>\n",
       "    <tr>\n",
       "      <th>2</th>\n",
       "      <td>Lower Manhattan Arts Academy</td>\n",
       "      <td>Manhattan</td>\n",
       "      <td>M445</td>\n",
       "      <td>418</td>\n",
       "      <td>428</td>\n",
       "      <td>415</td>\n",
       "      <td>65.1</td>\n",
       "    </tr>\n",
       "    <tr>\n",
       "      <th>3</th>\n",
       "      <td>High School for Dual Language and Asian Studies</td>\n",
       "      <td>Manhattan</td>\n",
       "      <td>M445</td>\n",
       "      <td>613</td>\n",
       "      <td>453</td>\n",
       "      <td>463</td>\n",
       "      <td>95.9</td>\n",
       "    </tr>\n",
       "    <tr>\n",
       "      <th>4</th>\n",
       "      <td>Henry Street School for International Studies</td>\n",
       "      <td>Manhattan</td>\n",
       "      <td>M056</td>\n",
       "      <td>410</td>\n",
       "      <td>406</td>\n",
       "      <td>381</td>\n",
       "      <td>59.7</td>\n",
       "    </tr>\n",
       "  </tbody>\n",
       "</table>\n",
       "</div>"
      ],
      "text/plain": [
       "                                         school_name    borough building_code  \\\n",
       "0  New Explorations into Science, Technology and ...  Manhattan          M022   \n",
       "1                               Essex Street Academy  Manhattan          M445   \n",
       "2                       Lower Manhattan Arts Academy  Manhattan          M445   \n",
       "3    High School for Dual Language and Asian Studies  Manhattan          M445   \n",
       "4      Henry Street School for International Studies  Manhattan          M056   \n",
       "\n",
       "   average_math  average_reading  average_writing  percent_tested  \n",
       "0           657              601              601             NaN  \n",
       "1           395              411              387            78.9  \n",
       "2           418              428              415            65.1  \n",
       "3           613              453              463            95.9  \n",
       "4           410              406              381            59.7  "
      ]
     },
     "execution_count": 2,
     "metadata": {},
     "output_type": "execute_result"
    }
   ],
   "source": [
    "# Re-run this cell \n",
    "import pandas as pd\n",
    "\n",
    "# Read in the data\n",
    "schools = pd.read_csv(\"schools.csv\")\n",
    "\n",
    "# Preview the first 5 data\n",
    "schools.head(5)"
   ]
  },
  {
   "cell_type": "markdown",
   "id": "bbbefbc0-14eb-4caa-83d1-9a94788f8e3c",
   "metadata": {},
   "source": [
    "<h2>Understanding the Data</h2>"
   ]
  },
  {
   "cell_type": "markdown",
   "id": "f88d063e-12d7-4bba-a43a-2950e7eccf26",
   "metadata": {},
   "source": [
    "<h3>1. Check data information</h3>\n",
    "Check data types with schools.info(). This is crucial to avoid issues during analysis, especially when dealing with mixed data types (numbers, text) that could lead to unexpected results.\n",
    "\n",
    "\n",
    "There are 375 entries or rows with 7 columns."
   ]
  },
  {
   "cell_type": "code",
   "execution_count": 3,
   "id": "0237be32-9014-438d-834b-f00537533362",
   "metadata": {
    "executionCancelledAt": null,
    "executionTime": 48,
    "lastExecutedAt": 1720780289556,
    "lastExecutedByKernel": "c2430d72-c4ca-4acd-8a6c-fba8e06d9ff9",
    "lastScheduledRunId": null,
    "lastSuccessfullyExecutedCode": "schools.info()",
    "outputsMetadata": {
     "0": {
      "height": 311,
      "type": "stream"
     }
    }
   },
   "outputs": [
    {
     "name": "stdout",
     "output_type": "stream",
     "text": [
      "<class 'pandas.core.frame.DataFrame'>\n",
      "RangeIndex: 375 entries, 0 to 374\n",
      "Data columns (total 7 columns):\n",
      " #   Column           Non-Null Count  Dtype  \n",
      "---  ------           --------------  -----  \n",
      " 0   school_name      375 non-null    object \n",
      " 1   borough          375 non-null    object \n",
      " 2   building_code    375 non-null    object \n",
      " 3   average_math     375 non-null    int64  \n",
      " 4   average_reading  375 non-null    int64  \n",
      " 5   average_writing  375 non-null    int64  \n",
      " 6   percent_tested   355 non-null    float64\n",
      "dtypes: float64(1), int64(3), object(3)\n",
      "memory usage: 20.6+ KB\n"
     ]
    }
   ],
   "source": [
    "schools.info()"
   ]
  },
  {
   "cell_type": "markdown",
   "id": "68578735-99f3-4b41-a0d5-6672f77afa2f",
   "metadata": {},
   "source": [
    "Used .describe() to understand the spread and central tendency of numerical features. This helps identify potential outliers and assess the overall data distribution.\n",
    "\n",
    "We can see from the results that the ‘percent_tested’ column has 20 missing values. This means there is data for only 355 out of 375 schools."
   ]
  },
  {
   "cell_type": "code",
   "execution_count": 12,
   "id": "63db1658-1a9c-4ff4-9833-1e9bbe6cf2a7",
   "metadata": {
    "chartConfig": {
     "bar": {
      "hasRoundedCorners": true,
      "stacked": false
     },
     "type": "bar",
     "version": "v1"
    },
    "executionCancelledAt": null,
    "executionTime": 47,
    "lastExecutedAt": 1720780289603,
    "lastExecutedByKernel": "c2430d72-c4ca-4acd-8a6c-fba8e06d9ff9",
    "lastScheduledRunId": null,
    "lastSuccessfullyExecutedCode": "schools.describe()",
    "outputsMetadata": {
     "0": {
      "height": 261,
      "type": "dataFrame"
     }
    },
    "visualizeDataframe": false
   },
   "outputs": [
    {
     "data": {
      "application/com.datacamp.data-table.v2+json": {
       "table": {
        "data": {
         "average_math": [
          375,
          432.944,
          71.9523725421,
          317,
          386,
          415,
          458.5,
          754
         ],
         "average_reading": [
          375,
          424.504,
          61.8810689564,
          302,
          386,
          413,
          445,
          697
         ],
         "average_writing": [
          375,
          418.4586666667,
          64.5485993861,
          284,
          382,
          403,
          437.5,
          693
         ],
         "index": [
          "count",
          "mean",
          "std",
          "min",
          "25%",
          "50%",
          "75%",
          "max"
         ],
         "percent_tested": [
          355,
          64.9763380282,
          18.7476342191,
          18.5,
          50.95,
          64.8,
          79.6,
          100
         ]
        },
        "schema": {
         "fields": [
          {
           "name": "index",
           "type": "string"
          },
          {
           "name": "average_math",
           "type": "number"
          },
          {
           "name": "average_reading",
           "type": "number"
          },
          {
           "name": "average_writing",
           "type": "number"
          },
          {
           "name": "percent_tested",
           "type": "number"
          }
         ],
         "pandas_version": "1.4.0",
         "primaryKey": [
          "index"
         ]
        }
       },
       "total_rows": 8,
       "truncation_type": null
      },
      "text/html": [
       "<div>\n",
       "<style scoped>\n",
       "    .dataframe tbody tr th:only-of-type {\n",
       "        vertical-align: middle;\n",
       "    }\n",
       "\n",
       "    .dataframe tbody tr th {\n",
       "        vertical-align: top;\n",
       "    }\n",
       "\n",
       "    .dataframe thead th {\n",
       "        text-align: right;\n",
       "    }\n",
       "</style>\n",
       "<table border=\"1\" class=\"dataframe\">\n",
       "  <thead>\n",
       "    <tr style=\"text-align: right;\">\n",
       "      <th></th>\n",
       "      <th>average_math</th>\n",
       "      <th>average_reading</th>\n",
       "      <th>average_writing</th>\n",
       "      <th>percent_tested</th>\n",
       "    </tr>\n",
       "  </thead>\n",
       "  <tbody>\n",
       "    <tr>\n",
       "      <th>count</th>\n",
       "      <td>375.000000</td>\n",
       "      <td>375.000000</td>\n",
       "      <td>375.000000</td>\n",
       "      <td>355.000000</td>\n",
       "    </tr>\n",
       "    <tr>\n",
       "      <th>mean</th>\n",
       "      <td>432.944000</td>\n",
       "      <td>424.504000</td>\n",
       "      <td>418.458667</td>\n",
       "      <td>64.976338</td>\n",
       "    </tr>\n",
       "    <tr>\n",
       "      <th>std</th>\n",
       "      <td>71.952373</td>\n",
       "      <td>61.881069</td>\n",
       "      <td>64.548599</td>\n",
       "      <td>18.747634</td>\n",
       "    </tr>\n",
       "    <tr>\n",
       "      <th>min</th>\n",
       "      <td>317.000000</td>\n",
       "      <td>302.000000</td>\n",
       "      <td>284.000000</td>\n",
       "      <td>18.500000</td>\n",
       "    </tr>\n",
       "    <tr>\n",
       "      <th>25%</th>\n",
       "      <td>386.000000</td>\n",
       "      <td>386.000000</td>\n",
       "      <td>382.000000</td>\n",
       "      <td>50.950000</td>\n",
       "    </tr>\n",
       "    <tr>\n",
       "      <th>50%</th>\n",
       "      <td>415.000000</td>\n",
       "      <td>413.000000</td>\n",
       "      <td>403.000000</td>\n",
       "      <td>64.800000</td>\n",
       "    </tr>\n",
       "    <tr>\n",
       "      <th>75%</th>\n",
       "      <td>458.500000</td>\n",
       "      <td>445.000000</td>\n",
       "      <td>437.500000</td>\n",
       "      <td>79.600000</td>\n",
       "    </tr>\n",
       "    <tr>\n",
       "      <th>max</th>\n",
       "      <td>754.000000</td>\n",
       "      <td>697.000000</td>\n",
       "      <td>693.000000</td>\n",
       "      <td>100.000000</td>\n",
       "    </tr>\n",
       "  </tbody>\n",
       "</table>\n",
       "</div>"
      ],
      "text/plain": [
       "       average_math  average_reading  average_writing  percent_tested\n",
       "count    375.000000       375.000000       375.000000      355.000000\n",
       "mean     432.944000       424.504000       418.458667       64.976338\n",
       "std       71.952373        61.881069        64.548599       18.747634\n",
       "min      317.000000       302.000000       284.000000       18.500000\n",
       "25%      386.000000       386.000000       382.000000       50.950000\n",
       "50%      415.000000       413.000000       403.000000       64.800000\n",
       "75%      458.500000       445.000000       437.500000       79.600000\n",
       "max      754.000000       697.000000       693.000000      100.000000"
      ]
     },
     "execution_count": 12,
     "metadata": {},
     "output_type": "execute_result"
    }
   ],
   "source": [
    "schools.describe()"
   ]
  },
  {
   "cell_type": "markdown",
   "id": "ebadd9c7-a377-4ecc-8d2b-50a363b465ba",
   "metadata": {},
   "source": [
    "Out of 375 entries, they are 20 rows or schools with empty \"percent_tested\" data which is represents approximatelly 5% of the data."
   ]
  },
  {
   "cell_type": "markdown",
   "id": "30bcd3d4-3a24-44a8-822f-43421fede329",
   "metadata": {},
   "source": [
    "<h3>2. Finding Missing Values</h3>\n",
    "Out of 375 entries, they are 20 rows or schools with empty “percent_tested” data which is represents approximatelly 5% of the data.\n",
    "\n",
    "We need to find out how many schools have missing values in the ‘percent_tested’ column. This will tell us which schools didn’t provide data on the percentage of students who took the tests."
   ]
  },
  {
   "cell_type": "code",
   "execution_count": 10,
   "id": "0e81f764-615e-4f7a-92fc-b7f009f70218",
   "metadata": {
    "executionCancelledAt": null,
    "executionTime": 53,
    "lastExecutedAt": 1720780289508,
    "lastExecutedByKernel": "c2430d72-c4ca-4acd-8a6c-fba8e06d9ff9",
    "lastScheduledRunId": null,
    "lastSuccessfullyExecutedCode": "schools.isna().sum()",
    "outputsMetadata": {
     "0": {
      "height": 246,
      "type": "dataFrame"
     }
    }
   },
   "outputs": [
    {
     "data": {
      "application/com.datacamp.data-table.v2+json": {
       "table": {
        "data": {
         "0": [
          0,
          0,
          0,
          0,
          0,
          0,
          20
         ],
         "index": [
          "school_name",
          "borough",
          "building_code",
          "average_math",
          "average_reading",
          "average_writing",
          "percent_tested"
         ]
        },
        "schema": {
         "fields": [
          {
           "name": "index",
           "type": "string"
          },
          {
           "name": "0",
           "type": "integer"
          }
         ],
         "pandas_version": "1.4.0",
         "primaryKey": [
          "index"
         ]
        }
       },
       "total_rows": 7,
       "truncation_type": null
      },
      "text/plain": [
       "school_name         0\n",
       "borough             0\n",
       "building_code       0\n",
       "average_math        0\n",
       "average_reading     0\n",
       "average_writing     0\n",
       "percent_tested     20\n",
       "dtype: int64"
      ]
     },
     "execution_count": 10,
     "metadata": {},
     "output_type": "execute_result"
    }
   ],
   "source": [
    "schools.isna().sum()"
   ]
  },
  {
   "cell_type": "markdown",
   "id": "47e7babe-13df-4b77-ab15-193d93b5a067",
   "metadata": {},
   "source": [
    "20 rows with missing data in percent_tested columns"
   ]
  },
  {
   "cell_type": "code",
   "execution_count": 23,
   "id": "b49c760c-0cbc-4f49-9a3c-c816e2fcacde",
   "metadata": {
    "executionCancelledAt": null,
    "executionTime": 61,
    "lastExecutedAt": 1720781442947,
    "lastExecutedByKernel": "c2430d72-c4ca-4acd-8a6c-fba8e06d9ff9",
    "lastScheduledRunId": null,
    "lastSuccessfullyExecutedCode": "print(schools[schools.isna().any(axis=1)])",
    "outputsMetadata": {
     "0": {
      "height": 500,
      "type": "stream"
     }
    }
   },
   "outputs": [
    {
     "name": "stdout",
     "output_type": "stream",
     "text": [
      "                                           school_name  ... percent_tested\n",
      "0    New Explorations into Science, Technology and ...  ...            NaN\n",
      "19   Urban Assembly School of Business for Young Women  ...            NaN\n",
      "38               High School of Hospitality Management  ...            NaN\n",
      "57      Frederick Douglass Academy II Secondary School  ...            NaN\n",
      "76              Jacqueline Kennedy Onassis High School  ...            NaN\n",
      "95                             Tottenville High School  ...            NaN\n",
      "114                    Bronx International High School  ...            NaN\n",
      "133                  West Bronx Academy for the Future  ...            NaN\n",
      "152              Bronx High School for the Visual Arts  ...            NaN\n",
      "171              Kingsbridge International High School  ...            NaN\n",
      "190  Archimedes Academy for Math, Science, and Tech...  ...            NaN\n",
      "209         Young Women's Leadership School in Astoria  ...            NaN\n",
      "228  High School for Public Service: Heroes of Tomo...  ...            NaN\n",
      "247                          Multicultural High School  ...            NaN\n",
      "266                         Boys and Girls High School  ...            NaN\n",
      "285                 Brooklyn Academy of Global Finance  ...            NaN\n",
      "304  Brooklyn Secondary School for Collaborative St...  ...            NaN\n",
      "323                               Flushing High School  ...            NaN\n",
      "342             Humanities and Arts Magnet High School  ...            NaN\n",
      "361                              Hillcrest High School  ...            NaN\n",
      "\n",
      "[20 rows x 7 columns]\n"
     ]
    }
   ],
   "source": [
    "print(schools[schools.isna().any(axis=1)])"
   ]
  },
  {
   "cell_type": "markdown",
   "id": "4bd0ba82-b09b-41b1-b474-3de63b760f9d",
   "metadata": {},
   "source": [
    "20 Schools with missing data for ‘percent_tested’ columns"
   ]
  },
  {
   "cell_type": "markdown",
   "id": "89ec2cbe-cedf-4e1e-b173-6e2dd4430930",
   "metadata": {},
   "source": [
    "While there are identified missing values in the ‘percent_tested’ column, I won’t be removing these rows as this data won’t be used in the current analysis. However, it’s important to note that these missing values could introduce bias or anomalies if not addressed in future analyses that might utilize this column."
   ]
  },
  {
   "cell_type": "markdown",
   "id": "d659cde8-33c8-4d7a-bb5c-e2add2854274",
   "metadata": {},
   "source": [
    "<h3>2. Finding Duplicate Values</h3>\n",
    "Checks for possible duplicated rows in the schools DataFrame."
   ]
  },
  {
   "cell_type": "code",
   "execution_count": 19,
   "id": "91c901a7-a6be-4cb2-a155-a42df6a4f29e",
   "metadata": {
    "executionCancelledAt": null,
    "executionTime": 12,
    "lastExecutedAt": 1720780891594,
    "lastExecutedByKernel": "c2430d72-c4ca-4acd-8a6c-fba8e06d9ff9",
    "lastScheduledRunId": null,
    "lastSuccessfullyExecutedCode": "duplicates = schools.duplicated()\nprint(schools[duplicates])",
    "outputsMetadata": {
     "0": {
      "height": 80,
      "type": "stream"
     }
    }
   },
   "outputs": [
    {
     "name": "stdout",
     "output_type": "stream",
     "text": [
      "Empty DataFrame\n",
      "Columns: [school_name, borough, building_code, average_math, average_reading, average_writing, percent_tested]\n",
      "Index: []\n"
     ]
    }
   ],
   "source": [
    "duplicates = schools.duplicated()\n",
    "print(schools[duplicates])"
   ]
  },
  {
   "cell_type": "markdown",
   "id": "ac00c3ec-d222-452c-800f-17a3bd24a9ff",
   "metadata": {},
   "source": [
    "No duplicate rows detected"
   ]
  },
  {
   "cell_type": "markdown",
   "id": "d8487021-3a58-452e-9dd6-69fce40d8b52",
   "metadata": {},
   "source": [
    "## Question No.1\n",
    "## Which NYC schools have the best math results?\n",
    "* The best math results are at least 80% of the *maximum possible score of 800* for math.\n",
    "* Save your results in a pandas DataFrame called best_math_schools, including \"school_name\" and \"average_math\" columns, sorted by \"average_math\" in descending order."
   ]
  },
  {
   "cell_type": "code",
   "execution_count": 27,
   "id": "9c66b321-fd43-4633-a098-83aa434abcb6",
   "metadata": {
    "executionCancelledAt": null,
    "executionTime": 20,
    "lastExecutedAt": 1720781877163,
    "lastExecutedByKernel": "c2430d72-c4ca-4acd-8a6c-fba8e06d9ff9",
    "lastScheduledRunId": null,
    "lastSuccessfullyExecutedCode": "#result is 80% of max score\nmax_score = 800\ntreshold = max_score * .8\nprint(treshold)\n\nbest_math_schools = schools[schools['average_math'] >= treshold][['school_name', 'average_math']].sort_values('average_math', ascending=False)\n\nbest_math_schools",
    "outputsMetadata": {
     "0": {
      "height": 38,
      "type": "stream"
     },
     "1": {
      "height": 321,
      "type": "dataFrame"
     }
    }
   },
   "outputs": [
    {
     "name": "stdout",
     "output_type": "stream",
     "text": [
      "640.0\n"
     ]
    },
    {
     "data": {
      "application/com.datacamp.data-table.v2+json": {
       "table": {
        "data": {
         "average_math": [
          754,
          714,
          711,
          701,
          683,
          682,
          680,
          669,
          657,
          641
         ],
         "index": [
          88,
          170,
          93,
          365,
          68,
          280,
          333,
          174,
          0,
          45
         ],
         "school_name": [
          "Stuyvesant High School",
          "Bronx High School of Science",
          "Staten Island Technical High School",
          "Queens High School for the Sciences at York College",
          "High School for Mathematics, Science, and Engineering at City College",
          "Brooklyn Technical High School",
          "Townsend Harris High School",
          "High School of American Studies at Lehman College",
          "New Explorations into Science, Technology and Math High School",
          "Eleanor Roosevelt High School"
         ]
        },
        "schema": {
         "fields": [
          {
           "name": "index",
           "type": "integer"
          },
          {
           "name": "school_name",
           "type": "string"
          },
          {
           "name": "average_math",
           "type": "integer"
          }
         ],
         "pandas_version": "1.4.0",
         "primaryKey": [
          "index"
         ]
        }
       },
       "total_rows": 10,
       "truncation_type": null
      },
      "text/html": [
       "<div>\n",
       "<style scoped>\n",
       "    .dataframe tbody tr th:only-of-type {\n",
       "        vertical-align: middle;\n",
       "    }\n",
       "\n",
       "    .dataframe tbody tr th {\n",
       "        vertical-align: top;\n",
       "    }\n",
       "\n",
       "    .dataframe thead th {\n",
       "        text-align: right;\n",
       "    }\n",
       "</style>\n",
       "<table border=\"1\" class=\"dataframe\">\n",
       "  <thead>\n",
       "    <tr style=\"text-align: right;\">\n",
       "      <th></th>\n",
       "      <th>school_name</th>\n",
       "      <th>average_math</th>\n",
       "    </tr>\n",
       "  </thead>\n",
       "  <tbody>\n",
       "    <tr>\n",
       "      <th>88</th>\n",
       "      <td>Stuyvesant High School</td>\n",
       "      <td>754</td>\n",
       "    </tr>\n",
       "    <tr>\n",
       "      <th>170</th>\n",
       "      <td>Bronx High School of Science</td>\n",
       "      <td>714</td>\n",
       "    </tr>\n",
       "    <tr>\n",
       "      <th>93</th>\n",
       "      <td>Staten Island Technical High School</td>\n",
       "      <td>711</td>\n",
       "    </tr>\n",
       "    <tr>\n",
       "      <th>365</th>\n",
       "      <td>Queens High School for the Sciences at York Co...</td>\n",
       "      <td>701</td>\n",
       "    </tr>\n",
       "    <tr>\n",
       "      <th>68</th>\n",
       "      <td>High School for Mathematics, Science, and Engi...</td>\n",
       "      <td>683</td>\n",
       "    </tr>\n",
       "    <tr>\n",
       "      <th>280</th>\n",
       "      <td>Brooklyn Technical High School</td>\n",
       "      <td>682</td>\n",
       "    </tr>\n",
       "    <tr>\n",
       "      <th>333</th>\n",
       "      <td>Townsend Harris High School</td>\n",
       "      <td>680</td>\n",
       "    </tr>\n",
       "    <tr>\n",
       "      <th>174</th>\n",
       "      <td>High School of American Studies at Lehman College</td>\n",
       "      <td>669</td>\n",
       "    </tr>\n",
       "    <tr>\n",
       "      <th>0</th>\n",
       "      <td>New Explorations into Science, Technology and ...</td>\n",
       "      <td>657</td>\n",
       "    </tr>\n",
       "    <tr>\n",
       "      <th>45</th>\n",
       "      <td>Eleanor Roosevelt High School</td>\n",
       "      <td>641</td>\n",
       "    </tr>\n",
       "  </tbody>\n",
       "</table>\n",
       "</div>"
      ],
      "text/plain": [
       "                                           school_name  average_math\n",
       "88                              Stuyvesant High School           754\n",
       "170                       Bronx High School of Science           714\n",
       "93                 Staten Island Technical High School           711\n",
       "365  Queens High School for the Sciences at York Co...           701\n",
       "68   High School for Mathematics, Science, and Engi...           683\n",
       "280                     Brooklyn Technical High School           682\n",
       "333                        Townsend Harris High School           680\n",
       "174  High School of American Studies at Lehman College           669\n",
       "0    New Explorations into Science, Technology and ...           657\n",
       "45                       Eleanor Roosevelt High School           641"
      ]
     },
     "execution_count": 27,
     "metadata": {},
     "output_type": "execute_result"
    }
   ],
   "source": [
    "#result is 80% of max score\n",
    "max_score = 800\n",
    "treshold = max_score * .8\n",
    "print(treshold)\n",
    "\n",
    "best_math_schools = schools[schools['average_math'] >= treshold][['school_name', 'average_math']].sort_values('average_math', ascending=False)\n",
    "\n",
    "best_math_schools"
   ]
  },
  {
   "cell_type": "markdown",
   "id": "a498746c-2918-46b9-b1bc-a580cc884380",
   "metadata": {},
   "source": [
    "## Question No.2\n",
    "## What are the top 10 performing schools based on the combined SAT scores?\n",
    "* Save your results as a pandas DataFrame called top_10_schools containing the \"school_name\" and a new column named \"total_SAT\", with results ordered by \"total_SAT\" in descending order."
   ]
  },
  {
   "cell_type": "code",
   "execution_count": 48,
   "id": "3c1349c4-a213-49ef-909e-bd047d55eb92",
   "metadata": {
    "executionCancelledAt": null,
    "executionTime": 21,
    "lastExecutedAt": 1720783138134,
    "lastExecutedByKernel": "c2430d72-c4ca-4acd-8a6c-fba8e06d9ff9",
    "lastScheduledRunId": null,
    "lastSuccessfullyExecutedCode": "schools[\"total_SAT\"] = schools[\"average_math\"] + schools[\"average_reading\"] + schools[\"average_writing\"] \ntop_10_schools = schools[['school_name', 'total_SAT']].sort_values('total_SAT', ascending=False).head(10).reset_index(drop=True)\n\ntop_10_schools",
    "outputsMetadata": {
     "0": {
      "height": 321,
      "type": "dataFrame"
     }
    }
   },
   "outputs": [
    {
     "data": {
      "application/com.datacamp.data-table.v2+json": {
       "table": {
        "data": {
         "index": [
          0,
          1,
          2,
          3,
          4,
          5,
          6,
          7,
          8,
          9
         ],
         "school_name": [
          "Stuyvesant High School",
          "Bronx High School of Science",
          "Staten Island Technical High School",
          "High School of American Studies at Lehman College",
          "Townsend Harris High School",
          "Queens High School for the Sciences at York College",
          "Bard High School Early College",
          "Brooklyn Technical High School",
          "Eleanor Roosevelt High School",
          "High School for Mathematics, Science, and Engineering at City College"
         ],
         "total_SAT": [
          2144,
          2041,
          2041,
          2013,
          1981,
          1947,
          1914,
          1896,
          1889,
          1889
         ]
        },
        "schema": {
         "fields": [
          {
           "name": "index",
           "type": "integer"
          },
          {
           "name": "school_name",
           "type": "string"
          },
          {
           "name": "total_SAT",
           "type": "integer"
          }
         ],
         "pandas_version": "1.4.0",
         "primaryKey": [
          "index"
         ]
        }
       },
       "total_rows": 10,
       "truncation_type": null
      },
      "text/html": [
       "<div>\n",
       "<style scoped>\n",
       "    .dataframe tbody tr th:only-of-type {\n",
       "        vertical-align: middle;\n",
       "    }\n",
       "\n",
       "    .dataframe tbody tr th {\n",
       "        vertical-align: top;\n",
       "    }\n",
       "\n",
       "    .dataframe thead th {\n",
       "        text-align: right;\n",
       "    }\n",
       "</style>\n",
       "<table border=\"1\" class=\"dataframe\">\n",
       "  <thead>\n",
       "    <tr style=\"text-align: right;\">\n",
       "      <th></th>\n",
       "      <th>school_name</th>\n",
       "      <th>total_SAT</th>\n",
       "    </tr>\n",
       "  </thead>\n",
       "  <tbody>\n",
       "    <tr>\n",
       "      <th>0</th>\n",
       "      <td>Stuyvesant High School</td>\n",
       "      <td>2144</td>\n",
       "    </tr>\n",
       "    <tr>\n",
       "      <th>1</th>\n",
       "      <td>Bronx High School of Science</td>\n",
       "      <td>2041</td>\n",
       "    </tr>\n",
       "    <tr>\n",
       "      <th>2</th>\n",
       "      <td>Staten Island Technical High School</td>\n",
       "      <td>2041</td>\n",
       "    </tr>\n",
       "    <tr>\n",
       "      <th>3</th>\n",
       "      <td>High School of American Studies at Lehman College</td>\n",
       "      <td>2013</td>\n",
       "    </tr>\n",
       "    <tr>\n",
       "      <th>4</th>\n",
       "      <td>Townsend Harris High School</td>\n",
       "      <td>1981</td>\n",
       "    </tr>\n",
       "    <tr>\n",
       "      <th>5</th>\n",
       "      <td>Queens High School for the Sciences at York Co...</td>\n",
       "      <td>1947</td>\n",
       "    </tr>\n",
       "    <tr>\n",
       "      <th>6</th>\n",
       "      <td>Bard High School Early College</td>\n",
       "      <td>1914</td>\n",
       "    </tr>\n",
       "    <tr>\n",
       "      <th>7</th>\n",
       "      <td>Brooklyn Technical High School</td>\n",
       "      <td>1896</td>\n",
       "    </tr>\n",
       "    <tr>\n",
       "      <th>8</th>\n",
       "      <td>Eleanor Roosevelt High School</td>\n",
       "      <td>1889</td>\n",
       "    </tr>\n",
       "    <tr>\n",
       "      <th>9</th>\n",
       "      <td>High School for Mathematics, Science, and Engi...</td>\n",
       "      <td>1889</td>\n",
       "    </tr>\n",
       "  </tbody>\n",
       "</table>\n",
       "</div>"
      ],
      "text/plain": [
       "                                         school_name  total_SAT\n",
       "0                             Stuyvesant High School       2144\n",
       "1                       Bronx High School of Science       2041\n",
       "2                Staten Island Technical High School       2041\n",
       "3  High School of American Studies at Lehman College       2013\n",
       "4                        Townsend Harris High School       1981\n",
       "5  Queens High School for the Sciences at York Co...       1947\n",
       "6                     Bard High School Early College       1914\n",
       "7                     Brooklyn Technical High School       1896\n",
       "8                      Eleanor Roosevelt High School       1889\n",
       "9  High School for Mathematics, Science, and Engi...       1889"
      ]
     },
     "execution_count": 48,
     "metadata": {},
     "output_type": "execute_result"
    }
   ],
   "source": [
    "schools[\"total_SAT\"] = schools[\"average_math\"] + schools[\"average_reading\"] + schools[\"average_writing\"] \n",
    "top_10_schools = schools[['school_name', 'total_SAT']].sort_values('total_SAT', ascending=False).head(10).reset_index(drop=True)\n",
    "\n",
    "top_10_schools"
   ]
  },
  {
   "cell_type": "markdown",
   "id": "8a65cdf3-facc-4062-accd-601077cd7e7b",
   "metadata": {},
   "source": [
    "## Question No.3\n",
    "## Which single borough has the largest standard deviation in the combined SAT score?\n",
    "\n",
    "* Save your results as a pandas DataFrame called largest_std_dev.\n",
    "* The DataFrame should contain one row, with:\n",
    "\n",
    "    * \"borough\" - the name of the NYC borough with the largest standard deviation of \"total_SAT\".\n",
    "    * \"num_schools\" - the number of schools in the borough.\n",
    "    * \"average_SAT\" - the mean of \"total_SAT\".\n",
    "    * \"std_SAT\" - the standard deviation of \"total_SAT\".\n",
    "* Round all numeric values to two decimal places.\n",
    "\n"
   ]
  },
  {
   "cell_type": "code",
   "execution_count": 53,
   "id": "ac7e0e3f-9d58-48cc-9dd5-c28001ed0863",
   "metadata": {
    "executionCancelledAt": null,
    "executionTime": 22,
    "lastExecutedAt": 1720783746456,
    "lastExecutedByKernel": "c2430d72-c4ca-4acd-8a6c-fba8e06d9ff9",
    "lastScheduledRunId": null,
    "lastSuccessfullyExecutedCode": "boroughs = schools.groupby('borough')['total_SAT'].agg(['count', 'mean', 'std']).round(2)\n\nboroughs\n",
    "outputsMetadata": {
     "0": {
      "height": 196,
      "type": "dataFrame"
     }
    }
   },
   "outputs": [
    {
     "data": {
      "application/com.datacamp.data-table.v2+json": {
       "table": {
        "data": {
         "borough": [
          "Bronx",
          "Brooklyn",
          "Manhattan",
          "Queens",
          "Staten Island"
         ],
         "count": [
          98,
          109,
          89,
          69,
          10
         ],
         "mean": [
          1202.72,
          1230.26,
          1340.13,
          1345.48,
          1439
         ],
         "std": [
          150.39,
          154.87,
          230.29,
          195.25,
          222.3
         ]
        },
        "schema": {
         "fields": [
          {
           "name": "borough",
           "type": "string"
          },
          {
           "name": "count",
           "type": "integer"
          },
          {
           "name": "mean",
           "type": "number"
          },
          {
           "name": "std",
           "type": "number"
          }
         ],
         "pandas_version": "1.4.0",
         "primaryKey": [
          "borough"
         ]
        }
       },
       "total_rows": 5,
       "truncation_type": null
      },
      "text/html": [
       "<div>\n",
       "<style scoped>\n",
       "    .dataframe tbody tr th:only-of-type {\n",
       "        vertical-align: middle;\n",
       "    }\n",
       "\n",
       "    .dataframe tbody tr th {\n",
       "        vertical-align: top;\n",
       "    }\n",
       "\n",
       "    .dataframe thead th {\n",
       "        text-align: right;\n",
       "    }\n",
       "</style>\n",
       "<table border=\"1\" class=\"dataframe\">\n",
       "  <thead>\n",
       "    <tr style=\"text-align: right;\">\n",
       "      <th></th>\n",
       "      <th>count</th>\n",
       "      <th>mean</th>\n",
       "      <th>std</th>\n",
       "    </tr>\n",
       "    <tr>\n",
       "      <th>borough</th>\n",
       "      <th></th>\n",
       "      <th></th>\n",
       "      <th></th>\n",
       "    </tr>\n",
       "  </thead>\n",
       "  <tbody>\n",
       "    <tr>\n",
       "      <th>Bronx</th>\n",
       "      <td>98</td>\n",
       "      <td>1202.72</td>\n",
       "      <td>150.39</td>\n",
       "    </tr>\n",
       "    <tr>\n",
       "      <th>Brooklyn</th>\n",
       "      <td>109</td>\n",
       "      <td>1230.26</td>\n",
       "      <td>154.87</td>\n",
       "    </tr>\n",
       "    <tr>\n",
       "      <th>Manhattan</th>\n",
       "      <td>89</td>\n",
       "      <td>1340.13</td>\n",
       "      <td>230.29</td>\n",
       "    </tr>\n",
       "    <tr>\n",
       "      <th>Queens</th>\n",
       "      <td>69</td>\n",
       "      <td>1345.48</td>\n",
       "      <td>195.25</td>\n",
       "    </tr>\n",
       "    <tr>\n",
       "      <th>Staten Island</th>\n",
       "      <td>10</td>\n",
       "      <td>1439.00</td>\n",
       "      <td>222.30</td>\n",
       "    </tr>\n",
       "  </tbody>\n",
       "</table>\n",
       "</div>"
      ],
      "text/plain": [
       "               count     mean     std\n",
       "borough                              \n",
       "Bronx             98  1202.72  150.39\n",
       "Brooklyn         109  1230.26  154.87\n",
       "Manhattan         89  1340.13  230.29\n",
       "Queens            69  1345.48  195.25\n",
       "Staten Island     10  1439.00  222.30"
      ]
     },
     "execution_count": 53,
     "metadata": {},
     "output_type": "execute_result"
    }
   ],
   "source": [
    "boroughs = schools.groupby('borough')['total_SAT'].agg(['count', 'mean', 'std']).round(2)\n",
    "\n",
    "boroughs\n"
   ]
  },
  {
   "cell_type": "markdown",
   "id": "3922fc67-7d88-49ee-8f96-d19e358ed040",
   "metadata": {},
   "source": [
    "Summary of the total SAT score distribution for each borough"
   ]
  },
  {
   "cell_type": "markdown",
   "id": "1c751497-d88e-424b-9b5f-2458a0f9b048",
   "metadata": {},
   "source": [
    "This provides valuable insights into how total SAT scores vary across different boroughs in the dataset."
   ]
  },
  {
   "cell_type": "code",
   "execution_count": 55,
   "id": "80712eb1-6289-417f-bd98-4d28312c7575",
   "metadata": {
    "executionCancelledAt": null,
    "executionTime": 19,
    "lastExecutedAt": 1720783792428,
    "lastExecutedByKernel": "c2430d72-c4ca-4acd-8a6c-fba8e06d9ff9",
    "lastScheduledRunId": null,
    "lastSuccessfullyExecutedCode": "value = boroughs['std'].max()\nlargest_std_dev = boroughs[boroughs['std'] == value]\nlargest_std_dev = largest_std_dev.rename(columns={\"count\":\"num_schools\", \"mean\":\"average_SAT\", \"std\":\"std_SAT\"})\nlargest_std_dev.reset_index(inplace=True)\n\nlargest_std_dev",
    "outputsMetadata": {
     "0": {
      "height": 96,
      "type": "dataFrame"
     }
    }
   },
   "outputs": [
    {
     "data": {
      "application/com.datacamp.data-table.v2+json": {
       "table": {
        "data": {
         "average_SAT": [
          1340.13
         ],
         "borough": [
          "Manhattan"
         ],
         "index": [
          0
         ],
         "num_schools": [
          89
         ],
         "std_SAT": [
          230.29
         ]
        },
        "schema": {
         "fields": [
          {
           "name": "index",
           "type": "integer"
          },
          {
           "name": "borough",
           "type": "string"
          },
          {
           "name": "num_schools",
           "type": "integer"
          },
          {
           "name": "average_SAT",
           "type": "number"
          },
          {
           "name": "std_SAT",
           "type": "number"
          }
         ],
         "pandas_version": "1.4.0",
         "primaryKey": [
          "index"
         ]
        }
       },
       "total_rows": 1,
       "truncation_type": null
      },
      "text/html": [
       "<div>\n",
       "<style scoped>\n",
       "    .dataframe tbody tr th:only-of-type {\n",
       "        vertical-align: middle;\n",
       "    }\n",
       "\n",
       "    .dataframe tbody tr th {\n",
       "        vertical-align: top;\n",
       "    }\n",
       "\n",
       "    .dataframe thead th {\n",
       "        text-align: right;\n",
       "    }\n",
       "</style>\n",
       "<table border=\"1\" class=\"dataframe\">\n",
       "  <thead>\n",
       "    <tr style=\"text-align: right;\">\n",
       "      <th></th>\n",
       "      <th>borough</th>\n",
       "      <th>num_schools</th>\n",
       "      <th>average_SAT</th>\n",
       "      <th>std_SAT</th>\n",
       "    </tr>\n",
       "  </thead>\n",
       "  <tbody>\n",
       "    <tr>\n",
       "      <th>0</th>\n",
       "      <td>Manhattan</td>\n",
       "      <td>89</td>\n",
       "      <td>1340.13</td>\n",
       "      <td>230.29</td>\n",
       "    </tr>\n",
       "  </tbody>\n",
       "</table>\n",
       "</div>"
      ],
      "text/plain": [
       "     borough  num_schools  average_SAT  std_SAT\n",
       "0  Manhattan           89      1340.13   230.29"
      ]
     },
     "execution_count": 55,
     "metadata": {},
     "output_type": "execute_result"
    }
   ],
   "source": [
    "value = boroughs['std'].max()\n",
    "largest_std_dev = boroughs[boroughs['std'] == value]\n",
    "largest_std_dev = largest_std_dev.rename(columns={\"count\":\"num_schools\", \"mean\":\"average_SAT\", \"std\":\"std_SAT\"})\n",
    "largest_std_dev.reset_index(inplace=True)\n",
    "\n",
    "largest_std_dev"
   ]
  },
  {
   "cell_type": "markdown",
   "id": "8d2baf2a-dc67-4417-83d8-f91c3f5e8ea0",
   "metadata": {},
   "source": [
    "Manhattan is the borough with the largest standard deviation"
   ]
  },
  {
   "cell_type": "code",
   "execution_count": null,
   "id": "cc652452-b432-4495-bfa7-1279deda4a07",
   "metadata": {},
   "outputs": [],
   "source": []
  }
 ],
 "metadata": {
  "editor": "DataLab",
  "kernelspec": {
   "display_name": "Python 3 (ipykernel)",
   "language": "python",
   "name": "python3"
  },
  "language_info": {
   "codemirror_mode": {
    "name": "ipython",
    "version": 3
   },
   "file_extension": ".py",
   "mimetype": "text/x-python",
   "name": "python",
   "nbconvert_exporter": "python",
   "pygments_lexer": "ipython3",
   "version": "3.12.4"
  }
 },
 "nbformat": 4,
 "nbformat_minor": 5
}
